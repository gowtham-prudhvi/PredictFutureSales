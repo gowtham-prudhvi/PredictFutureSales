{
 "cells": [
  {
   "cell_type": "code",
   "execution_count": 112,
   "metadata": {
    "_cell_guid": "b1076dfc-b9ad-4769-8c92-a6c4dae69d19",
    "_uuid": "8f2839f25d086af736a60e9eeb907d3b93b6e0e5"
   },
   "outputs": [],
   "source": [
    "%matplotlib inline\n",
    "import numpy as np # linear algebra\n",
    "import pandas as pd # data processing, CSV file I/O (e.g. pd.read_csv)\n",
    "import gc\n",
    "from itertools import product\n",
    "\n",
    "import lightgbm as lgb\n",
    "from tqdm import tqdm_notebook\n",
    "\n",
    "from sklearn.linear_model import LinearRegression\n",
    "from sklearn.metrics import mean_squared_error\n",
    "from sklearn.model_selection import KFold\n",
    "\n",
    "from IPython.core.interactiveshell import InteractiveShell\n",
    "InteractiveShell.ast_node_interactivity = \"all\""
   ]
  },
  {
   "cell_type": "code",
   "execution_count": 113,
   "metadata": {},
   "outputs": [],
   "source": [
    "def downcast_dtypes(df):\n",
    "    '''\n",
    "        Changes column types in the dataframe: \n",
    "                \n",
    "                `float64` type to `float32`\n",
    "                `int64`   type to `int32`\n",
    "    '''\n",
    "    \n",
    "    # Select columns to downcast\n",
    "    float_cols = [c for c in df if df[c].dtype == \"float64\"]\n",
    "    int_cols =   [c for c in df if df[c].dtype == \"int64\"]\n",
    "    \n",
    "    # Downcast\n",
    "    df[float_cols] = df[float_cols].astype(np.float32)\n",
    "    df[int_cols]   = df[int_cols].astype(np.int32)\n",
    "    \n",
    "    return df\n"
   ]
  },
  {
   "cell_type": "markdown",
   "metadata": {},
   "source": [
    "**Load the data from csv**"
   ]
  },
  {
   "cell_type": "code",
   "execution_count": 114,
   "metadata": {
    "_cell_guid": "",
    "_uuid": ""
   },
   "outputs": [],
   "source": [
    "item_categories = pd.read_csv(\"item_categories.csv\")\n",
    "items = pd.read_csv(\"items.csv\")\n",
    "sales_train = pd.read_csv(\"sales_train.csv\")\n",
    "sample_submission = pd.read_csv(\"sample_submission.csv\")\n",
    "shops = pd.read_csv(\"shops.csv\")\n",
    "test = pd.read_csv(\"test.csv\")"
   ]
  },
  {
   "cell_type": "markdown",
   "metadata": {},
   "source": [
    "# Exploratory Data analysis"
   ]
  },
  {
   "cell_type": "code",
   "execution_count": 115,
   "metadata": {},
   "outputs": [
    {
     "name": "stdout",
     "output_type": "stream",
     "text": [
      "         date  date_block_num  shop_id  item_id  item_price  item_cnt_day\n",
      "0  02.01.2013               0       59    22154      999.00           1.0\n",
      "1  03.01.2013               0       25     2552      899.00           1.0\n",
      "2  05.01.2013               0       25     2552      899.00          -1.0\n",
      "3  06.01.2013               0       25     2554     1709.05           1.0\n",
      "4  15.01.2013               0       25     2555     1099.00           1.0\n",
      "   ID  shop_id  item_id\n",
      "0   0        5     5037\n",
      "1   1        5     5320\n",
      "2   2        5     5233\n",
      "3   3        5     5232\n",
      "4   4        5     5268\n",
      "                                           item_name  item_id  \\\n",
      "0          ! ВО ВЛАСТИ НАВАЖДЕНИЯ (ПЛАСТ.)         D        0   \n",
      "1  !ABBYY FineReader 12 Professional Edition Full...        1   \n",
      "2      ***В ЛУЧАХ СЛАВЫ   (UNV)                    D        2   \n",
      "3    ***ГОЛУБАЯ ВОЛНА  (Univ)                      D        3   \n",
      "4        ***КОРОБКА (СТЕКЛО)                       D        4   \n",
      "\n",
      "   item_category_id  \n",
      "0                40  \n",
      "1                76  \n",
      "2                40  \n",
      "3                40  \n",
      "4                40  \n"
     ]
    }
   ],
   "source": [
    "print(sales_train.head())\n",
    "print(test.head())\n",
    "print(items.head())"
   ]
  },
  {
   "cell_type": "code",
   "execution_count": 116,
   "metadata": {},
   "outputs": [
    {
     "data": {
      "text/html": [
       "<div>\n",
       "<style scoped>\n",
       "    .dataframe tbody tr th:only-of-type {\n",
       "        vertical-align: middle;\n",
       "    }\n",
       "\n",
       "    .dataframe tbody tr th {\n",
       "        vertical-align: top;\n",
       "    }\n",
       "\n",
       "    .dataframe thead th {\n",
       "        text-align: right;\n",
       "    }\n",
       "</style>\n",
       "<table border=\"1\" class=\"dataframe\">\n",
       "  <thead>\n",
       "    <tr style=\"text-align: right;\">\n",
       "      <th></th>\n",
       "      <th>item_name</th>\n",
       "      <th>item_id</th>\n",
       "      <th>item_category_id</th>\n",
       "    </tr>\n",
       "  </thead>\n",
       "  <tbody>\n",
       "    <tr>\n",
       "      <td>0</td>\n",
       "      <td>! ВО ВЛАСТИ НАВАЖДЕНИЯ (ПЛАСТ.)         D</td>\n",
       "      <td>0</td>\n",
       "      <td>40</td>\n",
       "    </tr>\n",
       "    <tr>\n",
       "      <td>1</td>\n",
       "      <td>!ABBYY FineReader 12 Professional Edition Full...</td>\n",
       "      <td>1</td>\n",
       "      <td>76</td>\n",
       "    </tr>\n",
       "    <tr>\n",
       "      <td>2</td>\n",
       "      <td>***В ЛУЧАХ СЛАВЫ   (UNV)                    D</td>\n",
       "      <td>2</td>\n",
       "      <td>40</td>\n",
       "    </tr>\n",
       "    <tr>\n",
       "      <td>3</td>\n",
       "      <td>***ГОЛУБАЯ ВОЛНА  (Univ)                      D</td>\n",
       "      <td>3</td>\n",
       "      <td>40</td>\n",
       "    </tr>\n",
       "    <tr>\n",
       "      <td>4</td>\n",
       "      <td>***КОРОБКА (СТЕКЛО)                       D</td>\n",
       "      <td>4</td>\n",
       "      <td>40</td>\n",
       "    </tr>\n",
       "  </tbody>\n",
       "</table>\n",
       "</div>"
      ],
      "text/plain": [
       "                                           item_name  item_id  \\\n",
       "0          ! ВО ВЛАСТИ НАВАЖДЕНИЯ (ПЛАСТ.)         D        0   \n",
       "1  !ABBYY FineReader 12 Professional Edition Full...        1   \n",
       "2      ***В ЛУЧАХ СЛАВЫ   (UNV)                    D        2   \n",
       "3    ***ГОЛУБАЯ ВОЛНА  (Univ)                      D        3   \n",
       "4        ***КОРОБКА (СТЕКЛО)                       D        4   \n",
       "\n",
       "   item_category_id  \n",
       "0                40  \n",
       "1                76  \n",
       "2                40  \n",
       "3                40  \n",
       "4                40  "
      ]
     },
     "execution_count": 116,
     "metadata": {},
     "output_type": "execute_result"
    },
    {
     "data": {
      "text/html": [
       "<div>\n",
       "<style scoped>\n",
       "    .dataframe tbody tr th:only-of-type {\n",
       "        vertical-align: middle;\n",
       "    }\n",
       "\n",
       "    .dataframe tbody tr th {\n",
       "        vertical-align: top;\n",
       "    }\n",
       "\n",
       "    .dataframe thead th {\n",
       "        text-align: right;\n",
       "    }\n",
       "</style>\n",
       "<table border=\"1\" class=\"dataframe\">\n",
       "  <thead>\n",
       "    <tr style=\"text-align: right;\">\n",
       "      <th></th>\n",
       "      <th>item_id</th>\n",
       "      <th>item_category_id</th>\n",
       "    </tr>\n",
       "  </thead>\n",
       "  <tbody>\n",
       "    <tr>\n",
       "      <td>count</td>\n",
       "      <td>22170.00000</td>\n",
       "      <td>22170.000000</td>\n",
       "    </tr>\n",
       "    <tr>\n",
       "      <td>mean</td>\n",
       "      <td>11084.50000</td>\n",
       "      <td>46.290753</td>\n",
       "    </tr>\n",
       "    <tr>\n",
       "      <td>std</td>\n",
       "      <td>6400.07207</td>\n",
       "      <td>15.941486</td>\n",
       "    </tr>\n",
       "    <tr>\n",
       "      <td>min</td>\n",
       "      <td>0.00000</td>\n",
       "      <td>0.000000</td>\n",
       "    </tr>\n",
       "    <tr>\n",
       "      <td>25%</td>\n",
       "      <td>5542.25000</td>\n",
       "      <td>37.000000</td>\n",
       "    </tr>\n",
       "    <tr>\n",
       "      <td>50%</td>\n",
       "      <td>11084.50000</td>\n",
       "      <td>40.000000</td>\n",
       "    </tr>\n",
       "    <tr>\n",
       "      <td>75%</td>\n",
       "      <td>16626.75000</td>\n",
       "      <td>58.000000</td>\n",
       "    </tr>\n",
       "    <tr>\n",
       "      <td>max</td>\n",
       "      <td>22169.00000</td>\n",
       "      <td>83.000000</td>\n",
       "    </tr>\n",
       "  </tbody>\n",
       "</table>\n",
       "</div>"
      ],
      "text/plain": [
       "           item_id  item_category_id\n",
       "count  22170.00000      22170.000000\n",
       "mean   11084.50000         46.290753\n",
       "std     6400.07207         15.941486\n",
       "min        0.00000          0.000000\n",
       "25%     5542.25000         37.000000\n",
       "50%    11084.50000         40.000000\n",
       "75%    16626.75000         58.000000\n",
       "max    22169.00000         83.000000"
      ]
     },
     "execution_count": 116,
     "metadata": {},
     "output_type": "execute_result"
    }
   ],
   "source": [
    "items.head(5)\n",
    "items.describe()"
   ]
  },
  {
   "cell_type": "code",
   "execution_count": 117,
   "metadata": {},
   "outputs": [
    {
     "data": {
      "text/html": [
       "<div>\n",
       "<style scoped>\n",
       "    .dataframe tbody tr th:only-of-type {\n",
       "        vertical-align: middle;\n",
       "    }\n",
       "\n",
       "    .dataframe tbody tr th {\n",
       "        vertical-align: top;\n",
       "    }\n",
       "\n",
       "    .dataframe thead th {\n",
       "        text-align: right;\n",
       "    }\n",
       "</style>\n",
       "<table border=\"1\" class=\"dataframe\">\n",
       "  <thead>\n",
       "    <tr style=\"text-align: right;\">\n",
       "      <th></th>\n",
       "      <th>item_category_name</th>\n",
       "      <th>item_category_id</th>\n",
       "    </tr>\n",
       "  </thead>\n",
       "  <tbody>\n",
       "    <tr>\n",
       "      <td>0</td>\n",
       "      <td>PC - Гарнитуры/Наушники</td>\n",
       "      <td>0</td>\n",
       "    </tr>\n",
       "    <tr>\n",
       "      <td>1</td>\n",
       "      <td>Аксессуары - PS2</td>\n",
       "      <td>1</td>\n",
       "    </tr>\n",
       "    <tr>\n",
       "      <td>2</td>\n",
       "      <td>Аксессуары - PS3</td>\n",
       "      <td>2</td>\n",
       "    </tr>\n",
       "    <tr>\n",
       "      <td>3</td>\n",
       "      <td>Аксессуары - PS4</td>\n",
       "      <td>3</td>\n",
       "    </tr>\n",
       "    <tr>\n",
       "      <td>4</td>\n",
       "      <td>Аксессуары - PSP</td>\n",
       "      <td>4</td>\n",
       "    </tr>\n",
       "  </tbody>\n",
       "</table>\n",
       "</div>"
      ],
      "text/plain": [
       "        item_category_name  item_category_id\n",
       "0  PC - Гарнитуры/Наушники                 0\n",
       "1         Аксессуары - PS2                 1\n",
       "2         Аксессуары - PS3                 2\n",
       "3         Аксессуары - PS4                 3\n",
       "4         Аксессуары - PSP                 4"
      ]
     },
     "execution_count": 117,
     "metadata": {},
     "output_type": "execute_result"
    },
    {
     "data": {
      "text/html": [
       "<div>\n",
       "<style scoped>\n",
       "    .dataframe tbody tr th:only-of-type {\n",
       "        vertical-align: middle;\n",
       "    }\n",
       "\n",
       "    .dataframe tbody tr th {\n",
       "        vertical-align: top;\n",
       "    }\n",
       "\n",
       "    .dataframe thead th {\n",
       "        text-align: right;\n",
       "    }\n",
       "</style>\n",
       "<table border=\"1\" class=\"dataframe\">\n",
       "  <thead>\n",
       "    <tr style=\"text-align: right;\">\n",
       "      <th></th>\n",
       "      <th>item_category_id</th>\n",
       "    </tr>\n",
       "  </thead>\n",
       "  <tbody>\n",
       "    <tr>\n",
       "      <td>count</td>\n",
       "      <td>84.000000</td>\n",
       "    </tr>\n",
       "    <tr>\n",
       "      <td>mean</td>\n",
       "      <td>41.500000</td>\n",
       "    </tr>\n",
       "    <tr>\n",
       "      <td>std</td>\n",
       "      <td>24.392622</td>\n",
       "    </tr>\n",
       "    <tr>\n",
       "      <td>min</td>\n",
       "      <td>0.000000</td>\n",
       "    </tr>\n",
       "    <tr>\n",
       "      <td>25%</td>\n",
       "      <td>20.750000</td>\n",
       "    </tr>\n",
       "    <tr>\n",
       "      <td>50%</td>\n",
       "      <td>41.500000</td>\n",
       "    </tr>\n",
       "    <tr>\n",
       "      <td>75%</td>\n",
       "      <td>62.250000</td>\n",
       "    </tr>\n",
       "    <tr>\n",
       "      <td>max</td>\n",
       "      <td>83.000000</td>\n",
       "    </tr>\n",
       "  </tbody>\n",
       "</table>\n",
       "</div>"
      ],
      "text/plain": [
       "       item_category_id\n",
       "count         84.000000\n",
       "mean          41.500000\n",
       "std           24.392622\n",
       "min            0.000000\n",
       "25%           20.750000\n",
       "50%           41.500000\n",
       "75%           62.250000\n",
       "max           83.000000"
      ]
     },
     "execution_count": 117,
     "metadata": {},
     "output_type": "execute_result"
    }
   ],
   "source": [
    "item_categories.head(5)\n",
    "item_categories.describe()"
   ]
  },
  {
   "cell_type": "code",
   "execution_count": 118,
   "metadata": {},
   "outputs": [
    {
     "data": {
      "text/html": [
       "<div>\n",
       "<style scoped>\n",
       "    .dataframe tbody tr th:only-of-type {\n",
       "        vertical-align: middle;\n",
       "    }\n",
       "\n",
       "    .dataframe tbody tr th {\n",
       "        vertical-align: top;\n",
       "    }\n",
       "\n",
       "    .dataframe thead th {\n",
       "        text-align: right;\n",
       "    }\n",
       "</style>\n",
       "<table border=\"1\" class=\"dataframe\">\n",
       "  <thead>\n",
       "    <tr style=\"text-align: right;\">\n",
       "      <th></th>\n",
       "      <th>date</th>\n",
       "      <th>date_block_num</th>\n",
       "      <th>shop_id</th>\n",
       "      <th>item_id</th>\n",
       "      <th>item_price</th>\n",
       "      <th>item_cnt_day</th>\n",
       "    </tr>\n",
       "  </thead>\n",
       "  <tbody>\n",
       "    <tr>\n",
       "      <td>0</td>\n",
       "      <td>02.01.2013</td>\n",
       "      <td>0</td>\n",
       "      <td>59</td>\n",
       "      <td>22154</td>\n",
       "      <td>999.00</td>\n",
       "      <td>1.0</td>\n",
       "    </tr>\n",
       "    <tr>\n",
       "      <td>1</td>\n",
       "      <td>03.01.2013</td>\n",
       "      <td>0</td>\n",
       "      <td>25</td>\n",
       "      <td>2552</td>\n",
       "      <td>899.00</td>\n",
       "      <td>1.0</td>\n",
       "    </tr>\n",
       "    <tr>\n",
       "      <td>2</td>\n",
       "      <td>05.01.2013</td>\n",
       "      <td>0</td>\n",
       "      <td>25</td>\n",
       "      <td>2552</td>\n",
       "      <td>899.00</td>\n",
       "      <td>-1.0</td>\n",
       "    </tr>\n",
       "    <tr>\n",
       "      <td>3</td>\n",
       "      <td>06.01.2013</td>\n",
       "      <td>0</td>\n",
       "      <td>25</td>\n",
       "      <td>2554</td>\n",
       "      <td>1709.05</td>\n",
       "      <td>1.0</td>\n",
       "    </tr>\n",
       "    <tr>\n",
       "      <td>4</td>\n",
       "      <td>15.01.2013</td>\n",
       "      <td>0</td>\n",
       "      <td>25</td>\n",
       "      <td>2555</td>\n",
       "      <td>1099.00</td>\n",
       "      <td>1.0</td>\n",
       "    </tr>\n",
       "  </tbody>\n",
       "</table>\n",
       "</div>"
      ],
      "text/plain": [
       "         date  date_block_num  shop_id  item_id  item_price  item_cnt_day\n",
       "0  02.01.2013               0       59    22154      999.00           1.0\n",
       "1  03.01.2013               0       25     2552      899.00           1.0\n",
       "2  05.01.2013               0       25     2552      899.00          -1.0\n",
       "3  06.01.2013               0       25     2554     1709.05           1.0\n",
       "4  15.01.2013               0       25     2555     1099.00           1.0"
      ]
     },
     "execution_count": 118,
     "metadata": {},
     "output_type": "execute_result"
    },
    {
     "data": {
      "text/html": [
       "<div>\n",
       "<style scoped>\n",
       "    .dataframe tbody tr th:only-of-type {\n",
       "        vertical-align: middle;\n",
       "    }\n",
       "\n",
       "    .dataframe tbody tr th {\n",
       "        vertical-align: top;\n",
       "    }\n",
       "\n",
       "    .dataframe thead th {\n",
       "        text-align: right;\n",
       "    }\n",
       "</style>\n",
       "<table border=\"1\" class=\"dataframe\">\n",
       "  <thead>\n",
       "    <tr style=\"text-align: right;\">\n",
       "      <th></th>\n",
       "      <th>date_block_num</th>\n",
       "      <th>shop_id</th>\n",
       "      <th>item_id</th>\n",
       "      <th>item_price</th>\n",
       "      <th>item_cnt_day</th>\n",
       "    </tr>\n",
       "  </thead>\n",
       "  <tbody>\n",
       "    <tr>\n",
       "      <td>count</td>\n",
       "      <td>2.935849e+06</td>\n",
       "      <td>2.935849e+06</td>\n",
       "      <td>2.935849e+06</td>\n",
       "      <td>2.935849e+06</td>\n",
       "      <td>2.935849e+06</td>\n",
       "    </tr>\n",
       "    <tr>\n",
       "      <td>mean</td>\n",
       "      <td>1.456991e+01</td>\n",
       "      <td>3.300173e+01</td>\n",
       "      <td>1.019723e+04</td>\n",
       "      <td>8.908532e+02</td>\n",
       "      <td>1.242641e+00</td>\n",
       "    </tr>\n",
       "    <tr>\n",
       "      <td>std</td>\n",
       "      <td>9.422988e+00</td>\n",
       "      <td>1.622697e+01</td>\n",
       "      <td>6.324297e+03</td>\n",
       "      <td>1.729800e+03</td>\n",
       "      <td>2.618834e+00</td>\n",
       "    </tr>\n",
       "    <tr>\n",
       "      <td>min</td>\n",
       "      <td>0.000000e+00</td>\n",
       "      <td>0.000000e+00</td>\n",
       "      <td>0.000000e+00</td>\n",
       "      <td>-1.000000e+00</td>\n",
       "      <td>-2.200000e+01</td>\n",
       "    </tr>\n",
       "    <tr>\n",
       "      <td>25%</td>\n",
       "      <td>7.000000e+00</td>\n",
       "      <td>2.200000e+01</td>\n",
       "      <td>4.476000e+03</td>\n",
       "      <td>2.490000e+02</td>\n",
       "      <td>1.000000e+00</td>\n",
       "    </tr>\n",
       "    <tr>\n",
       "      <td>50%</td>\n",
       "      <td>1.400000e+01</td>\n",
       "      <td>3.100000e+01</td>\n",
       "      <td>9.343000e+03</td>\n",
       "      <td>3.990000e+02</td>\n",
       "      <td>1.000000e+00</td>\n",
       "    </tr>\n",
       "    <tr>\n",
       "      <td>75%</td>\n",
       "      <td>2.300000e+01</td>\n",
       "      <td>4.700000e+01</td>\n",
       "      <td>1.568400e+04</td>\n",
       "      <td>9.990000e+02</td>\n",
       "      <td>1.000000e+00</td>\n",
       "    </tr>\n",
       "    <tr>\n",
       "      <td>max</td>\n",
       "      <td>3.300000e+01</td>\n",
       "      <td>5.900000e+01</td>\n",
       "      <td>2.216900e+04</td>\n",
       "      <td>3.079800e+05</td>\n",
       "      <td>2.169000e+03</td>\n",
       "    </tr>\n",
       "  </tbody>\n",
       "</table>\n",
       "</div>"
      ],
      "text/plain": [
       "       date_block_num       shop_id       item_id    item_price  item_cnt_day\n",
       "count    2.935849e+06  2.935849e+06  2.935849e+06  2.935849e+06  2.935849e+06\n",
       "mean     1.456991e+01  3.300173e+01  1.019723e+04  8.908532e+02  1.242641e+00\n",
       "std      9.422988e+00  1.622697e+01  6.324297e+03  1.729800e+03  2.618834e+00\n",
       "min      0.000000e+00  0.000000e+00  0.000000e+00 -1.000000e+00 -2.200000e+01\n",
       "25%      7.000000e+00  2.200000e+01  4.476000e+03  2.490000e+02  1.000000e+00\n",
       "50%      1.400000e+01  3.100000e+01  9.343000e+03  3.990000e+02  1.000000e+00\n",
       "75%      2.300000e+01  4.700000e+01  1.568400e+04  9.990000e+02  1.000000e+00\n",
       "max      3.300000e+01  5.900000e+01  2.216900e+04  3.079800e+05  2.169000e+03"
      ]
     },
     "execution_count": 118,
     "metadata": {},
     "output_type": "execute_result"
    }
   ],
   "source": [
    "sales_train.head(5)\n",
    "sales_train.describe()"
   ]
  },
  {
   "cell_type": "code",
   "execution_count": 119,
   "metadata": {},
   "outputs": [
    {
     "data": {
      "text/html": [
       "<div>\n",
       "<style scoped>\n",
       "    .dataframe tbody tr th:only-of-type {\n",
       "        vertical-align: middle;\n",
       "    }\n",
       "\n",
       "    .dataframe tbody tr th {\n",
       "        vertical-align: top;\n",
       "    }\n",
       "\n",
       "    .dataframe thead th {\n",
       "        text-align: right;\n",
       "    }\n",
       "</style>\n",
       "<table border=\"1\" class=\"dataframe\">\n",
       "  <thead>\n",
       "    <tr style=\"text-align: right;\">\n",
       "      <th></th>\n",
       "      <th>shop_name</th>\n",
       "      <th>shop_id</th>\n",
       "    </tr>\n",
       "  </thead>\n",
       "  <tbody>\n",
       "    <tr>\n",
       "      <td>0</td>\n",
       "      <td>!Якутск Орджоникидзе, 56 фран</td>\n",
       "      <td>0</td>\n",
       "    </tr>\n",
       "    <tr>\n",
       "      <td>1</td>\n",
       "      <td>!Якутск ТЦ \"Центральный\" фран</td>\n",
       "      <td>1</td>\n",
       "    </tr>\n",
       "    <tr>\n",
       "      <td>2</td>\n",
       "      <td>Адыгея ТЦ \"Мега\"</td>\n",
       "      <td>2</td>\n",
       "    </tr>\n",
       "    <tr>\n",
       "      <td>3</td>\n",
       "      <td>Балашиха ТРК \"Октябрь-Киномир\"</td>\n",
       "      <td>3</td>\n",
       "    </tr>\n",
       "    <tr>\n",
       "      <td>4</td>\n",
       "      <td>Волжский ТЦ \"Волга Молл\"</td>\n",
       "      <td>4</td>\n",
       "    </tr>\n",
       "  </tbody>\n",
       "</table>\n",
       "</div>"
      ],
      "text/plain": [
       "                        shop_name  shop_id\n",
       "0   !Якутск Орджоникидзе, 56 фран        0\n",
       "1   !Якутск ТЦ \"Центральный\" фран        1\n",
       "2                Адыгея ТЦ \"Мега\"        2\n",
       "3  Балашиха ТРК \"Октябрь-Киномир\"        3\n",
       "4        Волжский ТЦ \"Волга Молл\"        4"
      ]
     },
     "execution_count": 119,
     "metadata": {},
     "output_type": "execute_result"
    },
    {
     "data": {
      "text/html": [
       "<div>\n",
       "<style scoped>\n",
       "    .dataframe tbody tr th:only-of-type {\n",
       "        vertical-align: middle;\n",
       "    }\n",
       "\n",
       "    .dataframe tbody tr th {\n",
       "        vertical-align: top;\n",
       "    }\n",
       "\n",
       "    .dataframe thead th {\n",
       "        text-align: right;\n",
       "    }\n",
       "</style>\n",
       "<table border=\"1\" class=\"dataframe\">\n",
       "  <thead>\n",
       "    <tr style=\"text-align: right;\">\n",
       "      <th></th>\n",
       "      <th>shop_id</th>\n",
       "    </tr>\n",
       "  </thead>\n",
       "  <tbody>\n",
       "    <tr>\n",
       "      <td>count</td>\n",
       "      <td>60.000000</td>\n",
       "    </tr>\n",
       "    <tr>\n",
       "      <td>mean</td>\n",
       "      <td>29.500000</td>\n",
       "    </tr>\n",
       "    <tr>\n",
       "      <td>std</td>\n",
       "      <td>17.464249</td>\n",
       "    </tr>\n",
       "    <tr>\n",
       "      <td>min</td>\n",
       "      <td>0.000000</td>\n",
       "    </tr>\n",
       "    <tr>\n",
       "      <td>25%</td>\n",
       "      <td>14.750000</td>\n",
       "    </tr>\n",
       "    <tr>\n",
       "      <td>50%</td>\n",
       "      <td>29.500000</td>\n",
       "    </tr>\n",
       "    <tr>\n",
       "      <td>75%</td>\n",
       "      <td>44.250000</td>\n",
       "    </tr>\n",
       "    <tr>\n",
       "      <td>max</td>\n",
       "      <td>59.000000</td>\n",
       "    </tr>\n",
       "  </tbody>\n",
       "</table>\n",
       "</div>"
      ],
      "text/plain": [
       "         shop_id\n",
       "count  60.000000\n",
       "mean   29.500000\n",
       "std    17.464249\n",
       "min     0.000000\n",
       "25%    14.750000\n",
       "50%    29.500000\n",
       "75%    44.250000\n",
       "max    59.000000"
      ]
     },
     "execution_count": 119,
     "metadata": {},
     "output_type": "execute_result"
    }
   ],
   "source": [
    "shops.head(5)\n",
    "shops.describe()"
   ]
  },
  {
   "cell_type": "code",
   "execution_count": 120,
   "metadata": {},
   "outputs": [],
   "source": [
    "test_temp = test.copy()\n",
    "test_temp['date_block_num'] = 34\n",
    "item_category_mapping = items[['item_id','item_category_id']].drop_duplicates()\n",
    "test_temp = pd.merge(test_temp, item_category_mapping, how='left', on='item_id')\n",
    "test_temp = test_temp.drop('ID',axis = 1)\n",
    "sales_train = sales_train.drop('date', axis = 1)"
   ]
  },
  {
   "cell_type": "markdown",
   "metadata": {},
   "source": [
    "**Add test data**"
   ]
  },
  {
   "cell_type": "code",
   "execution_count": 121,
   "metadata": {},
   "outputs": [
    {
     "name": "stderr",
     "output_type": "stream",
     "text": [
      "C:\\Users\\vgpru\\Anaconda3\\lib\\site-packages\\ipykernel_launcher.py:1: FutureWarning: Sorting because non-concatenation axis is not aligned. A future version\n",
      "of pandas will change to not sort by default.\n",
      "\n",
      "To accept the future behavior, pass 'sort=False'.\n",
      "\n",
      "To retain the current behavior and silence the warning, pass 'sort=True'.\n",
      "\n",
      "  \"\"\"Entry point for launching an IPython kernel.\n"
     ]
    }
   ],
   "source": [
    "sales_train_full = pd.concat([sales_train,test_temp], ignore_index = True)"
   ]
  },
  {
   "cell_type": "markdown",
   "metadata": {},
   "source": [
    "**Preprocessing the Data and KFold Mean Encoding**"
   ]
  },
  {
   "cell_type": "code",
   "execution_count": 122,
   "metadata": {},
   "outputs": [
    {
     "name": "stderr",
     "output_type": "stream",
     "text": [
      "C:\\Users\\vgpru\\Anaconda3\\lib\\site-packages\\ipykernel_launcher.py:42: SettingWithCopyWarning: \n",
      "A value is trying to be set on a copy of a slice from a DataFrame.\n",
      "Try using .loc[row_indexer,col_indexer] = value instead\n",
      "\n",
      "See the caveats in the documentation: http://pandas.pydata.org/pandas-docs/stable/user_guide/indexing.html#returning-a-view-versus-a-copy\n",
      "C:\\Users\\vgpru\\Anaconda3\\lib\\site-packages\\ipykernel_launcher.py:47: SettingWithCopyWarning: \n",
      "A value is trying to be set on a copy of a slice from a DataFrame.\n",
      "Try using .loc[row_indexer,col_indexer] = value instead\n",
      "\n",
      "See the caveats in the documentation: http://pandas.pydata.org/pandas-docs/stable/user_guide/indexing.html#returning-a-view-versus-a-copy\n"
     ]
    }
   ],
   "source": [
    "sales = sales_train_full\n",
    "\n",
    "# Create \"grid\" with columns\n",
    "index_cols = ['shop_id', 'item_id', 'date_block_num']\n",
    "\n",
    "# For every month we create a grid from all shops/items combinations from that month\n",
    "grid = [] \n",
    "for block_num in sales['date_block_num'].unique():\n",
    "    cur_shops = sales.loc[sales['date_block_num'] == block_num, 'shop_id'].unique()\n",
    "    cur_items = sales.loc[sales['date_block_num'] == block_num, 'item_id'].unique()\n",
    "    grid.append(np.array(list(product(*[cur_shops, cur_items, [block_num]])),dtype='int32'))\n",
    "\n",
    "# Turn the grid into a dataframe\n",
    "grid = pd.DataFrame(np.vstack(grid), columns = index_cols,dtype=np.int32)\n",
    "\n",
    "# Groupby data to get shop-item-month aggregates\n",
    "gb = sales.groupby(index_cols,as_index=False).agg({'item_cnt_day':{'target':'sum'}})\n",
    "# Fix column names\n",
    "gb.columns = [col[0] if col[-1]=='' else col[-1] for col in gb.columns.values] \n",
    "# Join it to the grid\n",
    "all_data = pd.merge(grid, gb, how='left', on=index_cols).fillna(0)\n",
    "\n",
    "# Same as above but with shop-month aggregates\n",
    "gb = sales.groupby(['shop_id', 'date_block_num'],as_index=False).agg({'item_cnt_day':{'target_shop':'sum'}})\n",
    "gb.columns = [col[0] if col[-1]=='' else col[-1] for col in gb.columns.values]\n",
    "all_data = pd.merge(all_data, gb, how='left', on=['shop_id', 'date_block_num']).fillna(0)\n",
    "\n",
    "# Same as above but with item-month aggregates\n",
    "gb = sales.groupby(['item_id', 'date_block_num'],as_index=False).agg({'item_cnt_day':{'target_item':'sum'}})\n",
    "gb.columns = [col[0] if col[-1] == '' else col[-1] for col in gb.columns.values]\n",
    "all_data = pd.merge(all_data, gb, how='left', on=['item_id', 'date_block_num']).fillna(0)\n",
    "\n",
    "\n",
    "all_data['item_target_enc'] = np.NaN\n",
    "all_data['shop_target_enc'] = np.NaN\n",
    "\n",
    "#Apply Mean encoding with KFolds\n",
    "kf = KFold(n_splits=5, shuffle=False)\n",
    "item_id_target_mean = []\n",
    "for train_index, test_index in kf.split(all_data):\n",
    "    train,test = all_data.iloc[train_index], all_data.iloc[test_index]\n",
    "    test['item_target_enc'] = test['item_id'].map(train.groupby('item_id').target.mean())\n",
    "    all_data.iloc[test_index] = test\n",
    "item_id_target_mean = []\n",
    "for train_index, test_index in kf.split(all_data):\n",
    "    train,test = all_data.iloc[train_index], all_data.iloc[test_index]\n",
    "    test['shop_target_enc'] = test['shop_id'].map(train.groupby('shop_id').target.mean())\n",
    "    all_data.iloc[test_index] = test\n",
    "\n",
    "# Fill NaNs\n",
    "all_data['item_target_enc'].fillna(0.3343, inplace=True)\n",
    "all_data['shop_target_enc'].fillna(0.3343, inplace=True)\n",
    "\n",
    "# Downcast dtypes from 64 to 32 bit to save memory\n",
    "all_data = downcast_dtypes(all_data)\n",
    "#all_data2 = all_data.copy()\n",
    "del grid, gb \n",
    "gc.collect();"
   ]
  },
  {
   "cell_type": "markdown",
   "metadata": {},
   "source": [
    "**Create Lag features for traininig**"
   ]
  },
  {
   "cell_type": "code",
   "execution_count": 123,
   "metadata": {},
   "outputs": [
    {
     "name": "stderr",
     "output_type": "stream",
     "text": [
      "C:\\Users\\vgpru\\Anaconda3\\lib\\site-packages\\ipykernel_launcher.py:6: TqdmDeprecationWarning: This function will be removed in tqdm==5.0.0\n",
      "Please use `tqdm.notebook.tqdm` instead of `tqdm.tqdm_notebook`\n",
      "  \n"
     ]
    },
    {
     "data": {
      "application/vnd.jupyter.widget-view+json": {
       "model_id": "00a53056ef684614aa1621552b2db76f",
       "version_major": 2,
       "version_minor": 0
      },
      "text/plain": [
       "HBox(children=(FloatProgress(value=0.0, max=6.0), HTML(value='')))"
      ]
     },
     "metadata": {},
     "output_type": "display_data"
    },
    {
     "name": "stdout",
     "output_type": "stream",
     "text": [
      "\n"
     ]
    }
   ],
   "source": [
    "# List of columns that we will use to create lags\n",
    "cols_to_rename = list(all_data.columns.difference(index_cols)) \n",
    "\n",
    "shift_range = [1, 2, 3, 4, 5, 12]\n",
    "\n",
    "for month_shift in tqdm_notebook(shift_range):\n",
    "    train_shift = all_data[index_cols + cols_to_rename].copy()\n",
    "    \n",
    "    train_shift['date_block_num'] = train_shift['date_block_num'] + month_shift\n",
    "    \n",
    "    foo = lambda x: '{}_lag_{}'.format(x, month_shift) if x in cols_to_rename else x\n",
    "    train_shift = train_shift.rename(columns=foo)\n",
    "\n",
    "    all_data = pd.merge(all_data, train_shift, on=index_cols, how='left').fillna(0)\n",
    "\n",
    "del train_shift\n",
    "\n",
    "# Don't use old data from year 2013\n",
    "all_data = all_data[all_data['date_block_num'] >= 12] \n",
    "\n",
    "# List of all lagged features\n",
    "fit_cols = [col for col in all_data.columns if col[-1] in [str(item) for item in shift_range]] \n",
    "# We will drop these at fitting stage\n",
    "to_drop_cols = list(set(list(all_data.columns)) - (set(fit_cols)|set(index_cols))) + ['date_block_num'] \n",
    "\n",
    "# Category for each item\n",
    "item_category_mapping = items[['item_id','item_category_id']].drop_duplicates()\n",
    "\n",
    "all_data = pd.merge(all_data, item_category_mapping, how='left', on='item_id')\n",
    "all_data = downcast_dtypes(all_data)\n",
    "gc.collect();"
   ]
  },
  {
   "cell_type": "code",
   "execution_count": 124,
   "metadata": {},
   "outputs": [
    {
     "data": {
      "text/plain": [
       "['target',\n",
       " 'target_item',\n",
       " 'target_shop',\n",
       " 'date_block_num',\n",
       " 'item_target_enc_lag_1',\n",
       " 'item_target_enc_lag_2',\n",
       " 'item_target_enc_lag_3',\n",
       " 'item_target_enc_lag_4',\n",
       " 'item_target_enc_lag_5',\n",
       " 'item_target_enc_lag_12',\n",
       " 'shop_target_enc_lag_1',\n",
       " 'shop_target_enc_lag_2',\n",
       " 'shop_target_enc_lag_3',\n",
       " 'shop_target_enc_lag_4',\n",
       " 'shop_target_enc_lag_5',\n",
       " 'shop_target_enc_lag_12']"
      ]
     },
     "execution_count": 124,
     "metadata": {},
     "output_type": "execute_result"
    }
   ],
   "source": [
    "to_drop_cols = to_drop_cols + ['item_target_enc_lag_1'] + ['item_target_enc_lag_2'] + ['item_target_enc_lag_3'] + ['item_target_enc_lag_4'] + ['item_target_enc_lag_5'] + ['item_target_enc_lag_12']\n",
    "to_drop_cols.remove('item_target_enc')\n",
    "to_drop_cols = to_drop_cols + ['shop_target_enc_lag_1'] + ['shop_target_enc_lag_2'] + ['shop_target_enc_lag_3'] + ['shop_target_enc_lag_4'] + ['shop_target_enc_lag_5'] + ['shop_target_enc_lag_12']\n",
    "to_drop_cols.remove('shop_target_enc')\n",
    "to_drop_cols"
   ]
  },
  {
   "cell_type": "markdown",
   "metadata": {},
   "source": [
    "**Prepare train test cv split**"
   ]
  },
  {
   "cell_type": "code",
   "execution_count": 125,
   "metadata": {
    "_kg_hide-output": false
   },
   "outputs": [],
   "source": [
    "dates = all_data['date_block_num']\n",
    "\n",
    "last_block = dates.max()\n",
    "#print(last_block)\n",
    "\n",
    "X_train = all_data.loc[dates < last_block - 1].drop(to_drop_cols, axis=1)\n",
    "X_cv = all_data.loc[dates ==  last_block - 1].drop(to_drop_cols, axis=1)\n",
    "X_test =  all_data.loc[dates == last_block].drop(to_drop_cols, axis=1)\n",
    "\n",
    "y_train = all_data.loc[dates <  last_block - 1, 'target'].values\n",
    "y_cv = all_data.loc[dates ==  last_block - 1, 'target'].values\n",
    "y_test =  all_data.loc[dates == last_block, 'target'].values\n",
    "\n",
    "# print(X_train_part.shape)\n",
    "# print(y_train_part.shape)\n",
    "\n",
    "# X_train.to_pickle(\"X_train.pkl\")\n",
    "# X_train_part.to_pickle(\"X_train_part.pkl\")\n",
    "# X_test.to_pickle(\"X_test.pkl\")\n",
    "\n",
    "# np.save(\"y_train.npy\", y_train)\n",
    "# np.save(\"y_train_part.npy\", y_train_part)\n",
    "# np.save(\"y_test.npy\", y_test)"
   ]
  },
  {
   "cell_type": "markdown",
   "metadata": {},
   "source": [
    "**LBGM Training code**"
   ]
  },
  {
   "cell_type": "code",
   "execution_count": 126,
   "metadata": {},
   "outputs": [],
   "source": [
    "def lgbm_train(X_train,y_train,X_test,y_test,num_iter):\n",
    "    lgb_params = {\n",
    "                   'feature_fraction': 0.75,\n",
    "                   'metric': 'rmse',\n",
    "                   'nthread':1, \n",
    "                   'min_data_in_leaf': 2**7, \n",
    "                   'bagging_fraction': 0.75, \n",
    "                   'learning_rate': 0.06, \n",
    "                   'objective': 'mse', \n",
    "                   'bagging_seed': 2**7, \n",
    "                   'num_leaves': 2**7,\n",
    "                   'bagging_freq':1,\n",
    "                   'verbose':0 \n",
    "                  }\n",
    "\n",
    "    evals_result = {}\n",
    "    \n",
    "    lgb_train = lgb.Dataset(X_train, label=y_train)\n",
    "    lgb_valid = lgb.Dataset(X_test, label=y_test)\n",
    "    model = lgb.train(lgb_params, lgb_train, num_iter,\n",
    "                      valid_sets=[lgb_train, lgb_valid],\n",
    "                      evals_result=evals_result,\n",
    "                      verbose_eval=10)\n",
    "    return model,evals_result\n"
   ]
  },
  {
   "cell_type": "markdown",
   "metadata": {},
   "source": [
    "**Lightbm training with 200 iterations with clipped target values**"
   ]
  },
  {
   "cell_type": "code",
   "execution_count": 127,
   "metadata": {},
   "outputs": [],
   "source": [
    "y_train_clip = y_train.clip(0,20)"
   ]
  },
  {
   "cell_type": "code",
   "execution_count": 128,
   "metadata": {},
   "outputs": [
    {
     "name": "stdout",
     "output_type": "stream",
     "text": [
      "[10]\ttraining's rmse: 0.981714\tvalid_1's rmse: 5.27444\n",
      "[20]\ttraining's rmse: 0.892236\tvalid_1's rmse: 5.2384\n",
      "[30]\ttraining's rmse: 0.851387\tvalid_1's rmse: 5.21973\n",
      "[40]\ttraining's rmse: 0.830319\tvalid_1's rmse: 5.20858\n",
      "[50]\ttraining's rmse: 0.819169\tvalid_1's rmse: 5.20197\n",
      "[60]\ttraining's rmse: 0.81117\tvalid_1's rmse: 5.19838\n",
      "[70]\ttraining's rmse: 0.804373\tvalid_1's rmse: 5.19555\n",
      "[80]\ttraining's rmse: 0.798538\tvalid_1's rmse: 5.19461\n",
      "[90]\ttraining's rmse: 0.793958\tvalid_1's rmse: 5.19279\n",
      "[100]\ttraining's rmse: 0.790204\tvalid_1's rmse: 5.19205\n"
     ]
    }
   ],
   "source": [
    "model,evals_result  = lgbm_train(X_train, y_train_clip, X_cv, y_cv, 100)"
   ]
  },
  {
   "cell_type": "markdown",
   "metadata": {},
   "source": [
    "**Save the model**"
   ]
  },
  {
   "cell_type": "code",
   "execution_count": 129,
   "metadata": {},
   "outputs": [
    {
     "data": {
      "text/plain": [
       "<lightgbm.basic.Booster at 0x29454370b00>"
      ]
     },
     "execution_count": 129,
     "metadata": {},
     "output_type": "execute_result"
    }
   ],
   "source": [
    "model.save_model('lgbm_model_full_clip20.txt')"
   ]
  },
  {
   "cell_type": "code",
   "execution_count": 20,
   "metadata": {},
   "outputs": [],
   "source": [
    "# from sklearn.ensemble import RandomForestRegressor\n",
    "# regr = RandomForestRegressor(n_estimators = 10, verbose = 1)\n",
    "# regr.fit(X_train, y_train_clip)\n",
    "# pred_rf = regr.predict(X_cv)\n",
    "\n",
    "# print('Test RMSE for random forests is %f' % np.sqrt(mean_squared_error(y_cv, pred_rf)))"
   ]
  },
  {
   "cell_type": "markdown",
   "metadata": {},
   "source": [
    "**Linear Regression model for ensembling**"
   ]
  },
  {
   "cell_type": "code",
   "execution_count": 19,
   "metadata": {},
   "outputs": [
    {
     "data": {
      "text/plain": [
       "LinearRegression(copy_X=True, fit_intercept=True, n_jobs=None,\n",
       "         normalize=False)"
      ]
     },
     "execution_count": 19,
     "metadata": {},
     "output_type": "execute_result"
    },
    {
     "name": "stdout",
     "output_type": "stream",
     "text": [
      "Test RMSE for linreg is 5.231828\n"
     ]
    }
   ],
   "source": [
    "#linear regression in preparation for ensembling\n",
    "lr = LinearRegression()\n",
    "\n",
    "lr.fit(X_train.values, y_train_clip)\n",
    "pred_lr = lr.predict(X_cv)\n",
    "\n",
    "print('Test RMSE for linreg is %f' % np.sqrt(mean_squared_error(y_cv, pred_lr)))"
   ]
  },
  {
   "cell_type": "markdown",
   "metadata": {},
   "source": [
    "**Predictions on cv and test set**"
   ]
  },
  {
   "cell_type": "code",
   "execution_count": 141,
   "metadata": {},
   "outputs": [],
   "source": [
    "pred_lgb_cv = model.predict(X_cv)\n",
    "lr.fit(X_train.values, y_train_clip)\n",
    "pred_lr_cv = lr.predict(X_cv)\n",
    "#Clip predictions for ensembling\n",
    "pred_lr_cv = pred_lr_cv.clip(0,20)\n",
    "pred_lgb_cv = pred_lgb_cv.clip(0,20)\n",
    "X_cv_level2 = np.c_[pred_lr_cv, pred_lgb_cv]\n",
    "np.save(\"X_cv_level2.npy\", X_cv_level2)"
   ]
  },
  {
   "cell_type": "code",
   "execution_count": 142,
   "metadata": {},
   "outputs": [],
   "source": [
    "pred_lgb_test = model.predict(X_test)\n",
    "lr.fit(X_train.values, y_train_clip)\n",
    "pred_lr_test = lr.predict(X_test)\n",
    "pred_lr_test = pred_lr_test.clip(0,20)\n",
    "pred_lgb_test = pred_lgb_test.clip(0,20)\n",
    "X_test_level2 = np.c_[pred_lr_test, pred_lgb_test]\n",
    "np.save(\"X_test_level2.npy\", X_test_level2)"
   ]
  },
  {
   "cell_type": "markdown",
   "metadata": {},
   "source": [
    "**First level models training similar to assignment**"
   ]
  },
  {
   "cell_type": "code",
   "execution_count": 145,
   "metadata": {},
   "outputs": [
    {
     "name": "stdout",
     "output_type": "stream",
     "text": [
      "28\n",
      "[10]\ttraining's rmse: 1.08358\tvalid_1's rmse: 1.08358\n",
      "[20]\ttraining's rmse: 1.00086\tvalid_1's rmse: 1.00086\n",
      "[30]\ttraining's rmse: 0.950159\tvalid_1's rmse: 0.950159\n",
      "[40]\ttraining's rmse: 0.91737\tvalid_1's rmse: 0.91737\n",
      "[50]\ttraining's rmse: 0.895866\tvalid_1's rmse: 0.895866\n",
      "[60]\ttraining's rmse: 0.881815\tvalid_1's rmse: 0.881815\n",
      "[70]\ttraining's rmse: 0.871556\tvalid_1's rmse: 0.871556\n",
      "[80]\ttraining's rmse: 0.863844\tvalid_1's rmse: 0.863844\n",
      "[90]\ttraining's rmse: 0.857774\tvalid_1's rmse: 0.857774\n",
      "[100]\ttraining's rmse: 0.852633\tvalid_1's rmse: 0.852633\n",
      "[110]\ttraining's rmse: 0.848298\tvalid_1's rmse: 0.848298\n",
      "[120]\ttraining's rmse: 0.844331\tvalid_1's rmse: 0.844331\n",
      "[130]\ttraining's rmse: 0.840536\tvalid_1's rmse: 0.840536\n",
      "[140]\ttraining's rmse: 0.837106\tvalid_1's rmse: 0.837106\n",
      "[150]\ttraining's rmse: 0.833922\tvalid_1's rmse: 0.833922\n",
      "[160]\ttraining's rmse: 0.831191\tvalid_1's rmse: 0.831191\n",
      "[170]\ttraining's rmse: 0.828993\tvalid_1's rmse: 0.828993\n",
      "[180]\ttraining's rmse: 0.826931\tvalid_1's rmse: 0.826931\n",
      "[190]\ttraining's rmse: 0.825012\tvalid_1's rmse: 0.825012\n",
      "[200]\ttraining's rmse: 0.823216\tvalid_1's rmse: 0.823216\n",
      "29\n",
      "[10]\ttraining's rmse: 1.07952\tvalid_1's rmse: 1.07952\n",
      "[20]\ttraining's rmse: 0.997688\tvalid_1's rmse: 0.997688\n",
      "[30]\ttraining's rmse: 0.947468\tvalid_1's rmse: 0.947468\n",
      "[40]\ttraining's rmse: 0.915109\tvalid_1's rmse: 0.915109\n",
      "[50]\ttraining's rmse: 0.893849\tvalid_1's rmse: 0.893849\n",
      "[60]\ttraining's rmse: 0.879969\tvalid_1's rmse: 0.879969\n",
      "[70]\ttraining's rmse: 0.869971\tvalid_1's rmse: 0.869971\n",
      "[80]\ttraining's rmse: 0.862573\tvalid_1's rmse: 0.862573\n",
      "[90]\ttraining's rmse: 0.856425\tvalid_1's rmse: 0.856425\n",
      "[100]\ttraining's rmse: 0.851554\tvalid_1's rmse: 0.851554\n",
      "[110]\ttraining's rmse: 0.847189\tvalid_1's rmse: 0.847189\n",
      "[120]\ttraining's rmse: 0.843281\tvalid_1's rmse: 0.843281\n",
      "[130]\ttraining's rmse: 0.839988\tvalid_1's rmse: 0.839988\n",
      "[140]\ttraining's rmse: 0.836354\tvalid_1's rmse: 0.836354\n",
      "[150]\ttraining's rmse: 0.833443\tvalid_1's rmse: 0.833443\n",
      "[160]\ttraining's rmse: 0.830892\tvalid_1's rmse: 0.830892\n",
      "[170]\ttraining's rmse: 0.828751\tvalid_1's rmse: 0.828751\n",
      "[180]\ttraining's rmse: 0.826685\tvalid_1's rmse: 0.826685\n",
      "[190]\ttraining's rmse: 0.824757\tvalid_1's rmse: 0.824757\n",
      "[200]\ttraining's rmse: 0.822851\tvalid_1's rmse: 0.822851\n",
      "30\n",
      "[10]\ttraining's rmse: 1.07414\tvalid_1's rmse: 1.07414\n",
      "[20]\ttraining's rmse: 0.992382\tvalid_1's rmse: 0.992382\n",
      "[30]\ttraining's rmse: 0.942384\tvalid_1's rmse: 0.942384\n",
      "[40]\ttraining's rmse: 0.910038\tvalid_1's rmse: 0.910038\n",
      "[50]\ttraining's rmse: 0.888893\tvalid_1's rmse: 0.888893\n",
      "[60]\ttraining's rmse: 0.875129\tvalid_1's rmse: 0.875129\n",
      "[70]\ttraining's rmse: 0.86492\tvalid_1's rmse: 0.86492\n",
      "[80]\ttraining's rmse: 0.857517\tvalid_1's rmse: 0.857517\n",
      "[90]\ttraining's rmse: 0.851498\tvalid_1's rmse: 0.851498\n",
      "[100]\ttraining's rmse: 0.846509\tvalid_1's rmse: 0.846509\n",
      "[110]\ttraining's rmse: 0.842139\tvalid_1's rmse: 0.842139\n",
      "[120]\ttraining's rmse: 0.838246\tvalid_1's rmse: 0.838246\n",
      "[130]\ttraining's rmse: 0.83499\tvalid_1's rmse: 0.83499\n",
      "[140]\ttraining's rmse: 0.831531\tvalid_1's rmse: 0.831531\n",
      "[150]\ttraining's rmse: 0.828703\tvalid_1's rmse: 0.828703\n",
      "[160]\ttraining's rmse: 0.826197\tvalid_1's rmse: 0.826197\n",
      "[170]\ttraining's rmse: 0.824071\tvalid_1's rmse: 0.824071\n",
      "[180]\ttraining's rmse: 0.821991\tvalid_1's rmse: 0.821991\n",
      "[190]\ttraining's rmse: 0.820187\tvalid_1's rmse: 0.820187\n",
      "[200]\ttraining's rmse: 0.818422\tvalid_1's rmse: 0.818422\n",
      "31\n",
      "[10]\ttraining's rmse: 1.06734\tvalid_1's rmse: 1.06734\n",
      "[20]\ttraining's rmse: 0.986415\tvalid_1's rmse: 0.986415\n",
      "[30]\ttraining's rmse: 0.936697\tvalid_1's rmse: 0.936697\n",
      "[40]\ttraining's rmse: 0.904861\tvalid_1's rmse: 0.904861\n",
      "[50]\ttraining's rmse: 0.884001\tvalid_1's rmse: 0.884001\n",
      "[60]\ttraining's rmse: 0.870478\tvalid_1's rmse: 0.870478\n",
      "[70]\ttraining's rmse: 0.860667\tvalid_1's rmse: 0.860667\n",
      "[80]\ttraining's rmse: 0.853518\tvalid_1's rmse: 0.853518\n",
      "[90]\ttraining's rmse: 0.847604\tvalid_1's rmse: 0.847604\n",
      "[100]\ttraining's rmse: 0.842619\tvalid_1's rmse: 0.842619\n",
      "[110]\ttraining's rmse: 0.838552\tvalid_1's rmse: 0.838552\n",
      "[120]\ttraining's rmse: 0.834769\tvalid_1's rmse: 0.834769\n",
      "[130]\ttraining's rmse: 0.831297\tvalid_1's rmse: 0.831297\n",
      "[140]\ttraining's rmse: 0.828138\tvalid_1's rmse: 0.828138\n",
      "[150]\ttraining's rmse: 0.825131\tvalid_1's rmse: 0.825131\n",
      "[160]\ttraining's rmse: 0.822549\tvalid_1's rmse: 0.822549\n",
      "[170]\ttraining's rmse: 0.820395\tvalid_1's rmse: 0.820395\n",
      "[180]\ttraining's rmse: 0.818443\tvalid_1's rmse: 0.818443\n",
      "[190]\ttraining's rmse: 0.816695\tvalid_1's rmse: 0.816695\n",
      "[200]\ttraining's rmse: 0.815054\tvalid_1's rmse: 0.815054\n",
      "32\n",
      "[10]\ttraining's rmse: 1.06351\tvalid_1's rmse: 1.06351\n",
      "[20]\ttraining's rmse: 0.982873\tvalid_1's rmse: 0.982873\n",
      "[30]\ttraining's rmse: 0.933297\tvalid_1's rmse: 0.933297\n",
      "[40]\ttraining's rmse: 0.901686\tvalid_1's rmse: 0.901686\n",
      "[50]\ttraining's rmse: 0.881\tvalid_1's rmse: 0.881\n",
      "[60]\ttraining's rmse: 0.86745\tvalid_1's rmse: 0.86745\n",
      "[70]\ttraining's rmse: 0.85754\tvalid_1's rmse: 0.85754\n",
      "[80]\ttraining's rmse: 0.850496\tvalid_1's rmse: 0.850496\n",
      "[90]\ttraining's rmse: 0.844759\tvalid_1's rmse: 0.844759\n",
      "[100]\ttraining's rmse: 0.840233\tvalid_1's rmse: 0.840233\n",
      "[110]\ttraining's rmse: 0.836423\tvalid_1's rmse: 0.836423\n",
      "[120]\ttraining's rmse: 0.83263\tvalid_1's rmse: 0.83263\n",
      "[130]\ttraining's rmse: 0.829205\tvalid_1's rmse: 0.829205\n",
      "[140]\ttraining's rmse: 0.825749\tvalid_1's rmse: 0.825749\n",
      "[150]\ttraining's rmse: 0.823251\tvalid_1's rmse: 0.823251\n",
      "[160]\ttraining's rmse: 0.820929\tvalid_1's rmse: 0.820929\n",
      "[170]\ttraining's rmse: 0.818661\tvalid_1's rmse: 0.818661\n",
      "[180]\ttraining's rmse: 0.816395\tvalid_1's rmse: 0.816395\n",
      "[190]\ttraining's rmse: 0.814557\tvalid_1's rmse: 0.814557\n",
      "[200]\ttraining's rmse: 0.812752\tvalid_1's rmse: 0.812752\n",
      "33\n",
      "[10]\ttraining's rmse: 1.06297\tvalid_1's rmse: 1.06297\n",
      "[20]\ttraining's rmse: 0.982795\tvalid_1's rmse: 0.982795\n",
      "[30]\ttraining's rmse: 0.933585\tvalid_1's rmse: 0.933585\n",
      "[40]\ttraining's rmse: 0.901946\tvalid_1's rmse: 0.901946\n",
      "[50]\ttraining's rmse: 0.881238\tvalid_1's rmse: 0.881238\n",
      "[60]\ttraining's rmse: 0.867942\tvalid_1's rmse: 0.867942\n",
      "[70]\ttraining's rmse: 0.857954\tvalid_1's rmse: 0.857954\n",
      "[80]\ttraining's rmse: 0.850646\tvalid_1's rmse: 0.850646\n",
      "[90]\ttraining's rmse: 0.844865\tvalid_1's rmse: 0.844865\n",
      "[100]\ttraining's rmse: 0.839959\tvalid_1's rmse: 0.839959\n",
      "[110]\ttraining's rmse: 0.83615\tvalid_1's rmse: 0.83615\n",
      "[120]\ttraining's rmse: 0.832414\tvalid_1's rmse: 0.832414\n",
      "[130]\ttraining's rmse: 0.829149\tvalid_1's rmse: 0.829149\n",
      "[140]\ttraining's rmse: 0.825837\tvalid_1's rmse: 0.825837\n",
      "[150]\ttraining's rmse: 0.823013\tvalid_1's rmse: 0.823013\n",
      "[160]\ttraining's rmse: 0.820613\tvalid_1's rmse: 0.820613\n",
      "[170]\ttraining's rmse: 0.818294\tvalid_1's rmse: 0.818294\n",
      "[180]\ttraining's rmse: 0.816221\tvalid_1's rmse: 0.816221\n",
      "[190]\ttraining's rmse: 0.814291\tvalid_1's rmse: 0.814291\n",
      "[200]\ttraining's rmse: 0.812504\tvalid_1's rmse: 0.812504\n"
     ]
    }
   ],
   "source": [
    "#First level predictions for ensembling\n",
    "\n",
    "dates_train = dates[dates <  last_block - 1]\n",
    "dates_train_level2 = dates_train[dates_train.isin([28, 29, 30, 31, 32])]\n",
    "\n",
    "# That is how we get target for the 2nd level dataset\n",
    "y_train_level2 = y_train[dates_train.isin([28, 29, 30, 31, 32])]\n",
    "\n",
    "# And here we create 2nd level feeature matrix, init it with zeros first\n",
    "X_train_level2 = np.zeros([y_train_level2.shape[0], 2])\n",
    "\n",
    "count = 0\n",
    "# Now fill `X_train_level2` with metafeatures\n",
    "for cur_block_num in [28, 29, 30, 31, 32]:\n",
    "    \n",
    "    print(cur_block_num)\n",
    "    \n",
    "    '''\n",
    "        1. Split `X_train` into parts\n",
    "           Remember, that corresponding dates are stored in `dates_train` \n",
    "        2. Fit linear regression \n",
    "        3. Fit LightGBM and put predictions          \n",
    "        4. Store predictions from 2. and 3. in the right place of `X_train_level2`. \n",
    "           You can use `dates_train_level2` for it\n",
    "           Make sure the order of the meta-features is the same as in `X_test_level2`\n",
    "    '''\n",
    "    X_train_cur = X_train[dates_train.isin(range(12,cur_block_num))]\n",
    "    y_train_cur = y_train_clip[dates_train.isin(range(12,cur_block_num))]\n",
    "    X_test_cur = X_train[dates_train.isin([cur_block_num])]\n",
    "    lr_temp = LinearRegression()\n",
    "    lr_temp.fit(X_train_cur.values, y_train_cur)\n",
    "    pred_lr_temp = lr_temp.predict(X_test_cur.values)\n",
    "    \n",
    "    model_temp,_ = lgbm_train(X_train_cur, y_train_cur, X_train_cur, y_train_cur, 200)\n",
    "    pred_lgb_temp = model_temp.predict(X_test_cur)\n",
    "    \n",
    "    for i in range(len(pred_lr_temp)):\n",
    "        X_train_level2[count+i][0]=pred_lr_temp[i]\n",
    "        X_train_level2[count+i][1]=pred_lgb_temp[i]\n",
    "    count+=len(pred_lr_temp)\n",
    "np.save(\"X_train_full_level2.npy\", X_train_level2)\n",
    "np.save(\"y_train_full_level2.npy\", y_train_level2)"
   ]
  },
  {
   "cell_type": "code",
   "execution_count": 147,
   "metadata": {},
   "outputs": [
    {
     "name": "stdout",
     "output_type": "stream",
     "text": [
      "Test RMSE for linreg is 5.247907\n",
      "Test RMSE for lgbm is 5.193346\n"
     ]
    }
   ],
   "source": [
    "print('Test RMSE for linreg is %f' % np.sqrt(mean_squared_error(y_cv, pred_lr_cv)))\n",
    "print('Test RMSE for lgbm is %f' % np.sqrt(mean_squared_error(y_cv, pred_lgb_cv)))"
   ]
  },
  {
   "cell_type": "markdown",
   "metadata": {},
   "source": [
    "**Ensembling with averaging**"
   ]
  },
  {
   "cell_type": "code",
   "execution_count": 180,
   "metadata": {},
   "outputs": [
    {
     "name": "stdout",
     "output_type": "stream",
     "text": [
      "0.1638807190308701\n",
      "0.4273387216055792\n",
      "Best alpha: 0.000000; Corresponding r2 score on train: 0.427339\n"
     ]
    }
   ],
   "source": [
    "\n",
    "#Ensembling with averaging implementation\n",
    "\n",
    "from sklearn.metrics import r2_score\n",
    "#X_train_level2[:,0].shape\n",
    "print(r2_score(y_train_level2.clip(0,20), X_train_level2[:,0]))\n",
    "print(r2_score(y_train_level2.clip(0,20), X_train_level2[:,1]))\n",
    "alphas_to_try = np.linspace(0, 1, 1001)\n",
    "best_r2 = 0.0\n",
    "best_alpha = -1\n",
    "for alpha in alphas_to_try:\n",
    "    curr_r2 = r2_score(y_train_level2.clip(0,20), np.dot(X_train_level2, [alpha,1-alpha]))\n",
    "    if curr_r2 > best_r2:\n",
    "        best_r2 = curr_r2\n",
    "        best_alpha = alpha\n",
    "# YOUR CODE GOES HERE\n",
    "best_alpha = best_alpha\n",
    "r2_train_simple_mix = best_r2\n",
    "\n",
    "print('Best alpha: %f; Corresponding r2 score on train: %f' % (best_alpha, r2_train_simple_mix))"
   ]
  },
  {
   "cell_type": "markdown",
   "metadata": {},
   "source": [
    "**Ensembling with stacking on first level predictions**"
   ]
  },
  {
   "cell_type": "code",
   "execution_count": 159,
   "metadata": {},
   "outputs": [
    {
     "data": {
      "text/plain": [
       "5.194295736604871"
      ]
     },
     "execution_count": 159,
     "metadata": {},
     "output_type": "execute_result"
    }
   ],
   "source": [
    "#Ensembling with stacking predictions\n",
    "X_train_level2 = np.load(\"X_train_full_level2.npy\")\n",
    "y_train_level2 = np.load(\"y_train_full_level2.npy\")\n",
    "\n",
    "\n",
    "lr.fit(X_train_level2.clip(0,20), y_train_level2.clip(0,20))\n",
    "\n",
    "cv_preds = lr.predict(X_cv_level2)\n",
    "rmse_test_stacking = np.sqrt(mean_squared_error(y_cv, cv_preds))\n",
    "\n",
    "test_preds = lr.predict(X_test_level2)\n",
    "rmse_test_stacking"
   ]
  },
  {
   "cell_type": "markdown",
   "metadata": {},
   "source": [
    "**Save ensembling output to csv**"
   ]
  },
  {
   "cell_type": "code",
   "execution_count": 158,
   "metadata": {},
   "outputs": [
    {
     "name": "stdout",
     "output_type": "stream",
     "text": [
      "<bound method NDFrame.head of             ID  item_cnt_month\n",
      "0            0        0.454706\n",
      "1            1        0.229680\n",
      "2            2        0.810350\n",
      "3            3        0.321987\n",
      "4            4        1.631143\n",
      "...        ...             ...\n",
      "214195  214195        0.138287\n",
      "214196  214196        0.067720\n",
      "214197  214197        0.046541\n",
      "214198  214198        0.043305\n",
      "214199  214199        0.043210\n",
      "\n",
      "[214200 rows x 2 columns]>\n"
     ]
    }
   ],
   "source": [
    "#predictions on the test set\n",
    "merged = test.copy()\n",
    "merged['item_cnt_month'] = test_preds\n",
    "merged['item_cnt_month']=merged['item_cnt_month'].clip(lower=0,upper=20)\n",
    "merged=merged.drop(['shop_id','item_id'],axis=1)\n",
    "merged['ID']=merged['ID'].astype('int')\n",
    "merged.to_csv(\"lightgbm_clipto20_ens_full_l2full.csv\",index=False)\n",
    "print(merged.head)"
   ]
  },
  {
   "cell_type": "code",
   "execution_count": 182,
   "metadata": {},
   "outputs": [],
   "source": [
    "np.save(\"X_test.npy\", X_test)"
   ]
  },
  {
   "cell_type": "markdown",
   "metadata": {},
   "source": [
    "**Final submission quick test**"
   ]
  },
  {
   "cell_type": "code",
   "execution_count": 132,
   "metadata": {
    "scrolled": true
   },
   "outputs": [
    {
     "name": "stdout",
     "output_type": "stream",
     "text": [
      "<bound method NDFrame.head of             ID  item_cnt_month\n",
      "0            0        0.401928\n",
      "1            1        0.196123\n",
      "2            2        0.847733\n",
      "3            3        0.304798\n",
      "4            4        1.525225\n",
      "...        ...             ...\n",
      "214195  214195        0.113655\n",
      "214196  214196        0.044816\n",
      "214197  214197        0.023280\n",
      "214198  214198        0.018627\n",
      "214199  214199        0.019826\n",
      "\n",
      "[214200 rows x 2 columns]>\n"
     ]
    }
   ],
   "source": [
    "#Code to run to get the submitted result\n",
    "\n",
    "model_lgb = lgb.Booster(model_file='lgbm_model_full_clip20.txt')\n",
    "\n",
    "X_test_fin = np.load('X_test.npy')\n",
    "lgb_pred_test_fin = model_lgb.predict(X_test_fin)\n",
    "lgb_pred_test_fin = lgb_pred_test_fin.clip(0,20)\n",
    "\n",
    "test_fin = pd.read_csv(\"test.csv\")\n",
    "test_fin['item_cnt_month'] = lgb_pred_test_fin\n",
    "test_fin['item_cnt_month']= test_fin['item_cnt_month'].clip(lower=0,upper=20)\n",
    "test_fin = test_fin.drop(['shop_id','item_id'],axis=1)\n",
    "test_fin['ID'] = test_fin['ID'].astype('int')\n",
    "test_fin.to_csv(\"final_submission_more_lr_enc.csv\",index=False)\n",
    "print(test_fin.head)"
   ]
  },
  {
   "cell_type": "code",
   "execution_count": 111,
   "metadata": {},
   "outputs": [
    {
     "data": {
      "text/plain": [
       "<matplotlib.axes._subplots.AxesSubplot at 0x294543502b0>"
      ]
     },
     "execution_count": 111,
     "metadata": {},
     "output_type": "execute_result"
    },
    {
     "data": {
      "image/png": "[encoded data removed]",
      "text/plain": [
       "<Figure size 432x288 with 1 Axes>"
      ]
     },
     "metadata": {
      "needs_background": "light"
     },
     "output_type": "display_data"
    }
   ],
   "source": [
    "lgb.plot_importance(model_lgb)"
   ]
  }
 ],
 "metadata": {
  "kernelspec": {
   "display_name": "Python 3",
   "language": "python",
   "name": "python3"
  },
  "language_info": {
   "codemirror_mode": {
    "name": "ipython",
    "version": 3
   },
   "file_extension": ".py",
   "mimetype": "text/x-python",
   "name": "python",
   "nbconvert_exporter": "python",
   "pygments_lexer": "ipython3",
   "version": "3.7.3"
  }
 },
 "nbformat": 4,
 "nbformat_minor": 1
}
